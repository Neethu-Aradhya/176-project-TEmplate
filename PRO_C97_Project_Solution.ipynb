{
  "nbformat": 4,
  "nbformat_minor": 0,
  "metadata": {
    "colab": {
      "provenance": [],
      "include_colab_link": true
    },
    "kernelspec": {
      "name": "python3",
      "display_name": "Python 3"
    },
    "language_info": {
      "name": "python"
    }
  },
  "cells": [
    {
      "cell_type": "markdown",
      "metadata": {
        "id": "view-in-github",
        "colab_type": "text"
      },
      "source": [
        "<a href=\"https://colab.research.google.com/github/Neethu-Aradhya/176-project-TEmplate/blob/main/PRO_C97_Project_Solution.ipynb\" target=\"_parent\"><img src=\"https://colab.research.google.com/assets/colab-badge.svg\" alt=\"Open In Colab\"/></a>"
      ]
    },
    {
      "cell_type": "markdown",
      "metadata": {
        "id": "tfgqzUix1H0q"
      },
      "source": [
        "**CHECK FOR A LEAP YEAR**"
      ]
    },
    {
      "cell_type": "code",
      "metadata": {
        "colab": {
          "base_uri": "https://localhost:8080/"
        },
        "id": "D6C3V-HEr9Yr",
        "outputId": "859b1824-bacb-4aae-fd42-deb03c2a60ff"
      },
      "source": [
        "year=int(input(\"Enter year to be checked:\"))\n",
        "\n",
        "if(year % 4 == 0 ):\n",
        "  print(\"The year is a leap year!\")\n",
        "else:\n",
        "  print(\"The year isn't a leap year!\")"
      ],
      "execution_count": 2,
      "outputs": [
        {
          "output_type": "stream",
          "name": "stdout",
          "text": [
            "Enter year to be checked:2024\n",
            "The year is a leap year!\n"
          ]
        }
      ]
    },
    {
      "cell_type": "markdown",
      "metadata": {
        "id": "cWukWcop1RQ7"
      },
      "source": [
        "**Read Height in Centimeters and then Convert the Height to Feet and Inches**"
      ]
    },
    {
      "cell_type": "code",
      "metadata": {
        "id": "FV_xfVFL1bi_"
      },
      "source": [
        "cm=int(input(\"Enter the height in centimeters:\"))\n",
        "inches=0.394*cm\n",
        "feet=0.0328*cm\n",
        "print(\"The length in inches\",round(inches,2))\n",
        "print(\"The length in feet\",round(feet,2))"
      ],
      "execution_count": null,
      "outputs": []
    }
  ]
}